{
 "cells": [
  {
   "cell_type": "code",
   "execution_count": 1,
   "id": "4d3f91ea",
   "metadata": {
    "scrolled": false
   },
   "outputs": [
    {
     "ename": "ModuleNotFoundError",
     "evalue": "No module named 'numpy'",
     "output_type": "error",
     "traceback": [
      "\u001b[0;31m---------------------------------------------------------------------------\u001b[0m",
      "\u001b[0;31mModuleNotFoundError\u001b[0m                       Traceback (most recent call last)",
      "Cell \u001b[0;32mIn[1], line 1\u001b[0m\n\u001b[0;32m----> 1\u001b[0m \u001b[39mimport\u001b[39;00m \u001b[39mnumpy\u001b[39;00m \u001b[39mas\u001b[39;00m \u001b[39mnp\u001b[39;00m\n\u001b[1;32m      2\u001b[0m \u001b[39mimport\u001b[39;00m \u001b[39mmatplotlib\u001b[39;00m\u001b[39m.\u001b[39;00m\u001b[39mpyplot\u001b[39;00m \u001b[39mas\u001b[39;00m \u001b[39mplt\u001b[39;00m\n\u001b[1;32m      3\u001b[0m \u001b[39mimport\u001b[39;00m  \u001b[39mmatplotlib\u001b[39;00m\u001b[39m.\u001b[39;00m\u001b[39manimation\u001b[39;00m \u001b[39mas\u001b[39;00m \u001b[39manimation\u001b[39;00m\n",
      "\u001b[0;31mModuleNotFoundError\u001b[0m: No module named 'numpy'"
     ]
    }
   ],
   "source": [
    "import numpy as np\n",
    "import matplotlib.pyplot as plt\n",
    "import  matplotlib.animation as animation\n",
    "plt.rc('figure', figsize=(12,9))\n",
    "\n",
    "plt.rcParams['animation.writer'] = \"avconv\"\n",
    "\n",
    "# Constantes du système\n",
    "g, m1, m2, r1, r2 = 9.8, 2, 1, 1, 2\n",
    "\n",
    "# flux pour les angles\n",
    "def fluxth(th1, th2, p1, p2):\n",
    "    c1 = (m2*r2**2*p1-m2*r1*r2*np.cos(th1-th2)*p2)/(m2*r1**2*r2**2*(m1+m2*(np.sin(th1-th2))**2))\n",
    "    c2 = ((m1+m2)*r1**2*p2-m2*r1*r2*np.cos(th1-th2)*p1)/(m2*r1**2*r2**2*(m1+m2*(np.sin(th1-th2))**2))\n",
    "    return c1, c2\n",
    "\n",
    "# flux pour les quantités de mouvements\n",
    "def fluxp(th1, th2, dth1, dth2):\n",
    "    c1 = -(m1+m2)*g*r1*np.sin(th1)-m2*r1*r2*dth1*dth2*np.sin(th1-th2)\n",
    "    c2 = m2*r1*r2*dth1*dth2*np.sin(th1-th2)-m2*g*r2*np.sin(th2)\n",
    "    return c1, c2 \n",
    "\n",
    "\n",
    "# Schéma d'Euler explicite\n",
    "def euler(th10, th20, p10, p20, dt=0.01, T=10):\n",
    "    N = int(T/dt)\n",
    "    temps = np.linspace(0, T, N+1)\n",
    "    sol = np.zeros((4,N+1))\n",
    "    sol[0,0] = th10\n",
    "    sol[1,0] = th20\n",
    "    sol[2,0] = p10\n",
    "    sol[3,0] = p20\n",
    "    for i in range(N):\n",
    "        a, b = fluxth(sol[0,i], sol[1,i], sol[2,i], sol[3,i])\n",
    "        sol[0,i+1] = sol[0,i] + dt*a\n",
    "        sol[1,i+1] = sol[1,i] + dt*b\n",
    "        c, d = fluxp(sol[0,i], sol[1,i], a, b)\n",
    "        sol[2,i+1] = sol[2,i] + dt*c\n",
    "        sol[3,i+1] = sol[3,i] + dt*d\n",
    "    return temps, sol\n",
    "\n",
    "def visualisation(temps, sol):\n",
    "    fig, ax = plt.subplots()\n",
    "    x1 = r1*np.sin(sol[0,:])\n",
    "    y1 = -r1*np.cos(sol[0,:])\n",
    "    x2 = x1 + r2*np.sin(sol[1,:])\n",
    "    y2 = y1 - r2*np.cos(sol[1,:])\n",
    "    ax.set_xlim(-(r1+r2), r1+r2)\n",
    "    ax.set_ylim(-(r1+r2), r1+r2)\n",
    "    line, = plt.plot([0,x1[0], x2[0]], [0, y1[0], y2[0]], linewidth=2, marker=\"o\", color=\"blue\")\n",
    "    \n",
    "    # Trajectoire du pendule\n",
    "    traj, = plt.plot(x2[:1], y2[:1], color='red', alpha=0.5)\n",
    "\n",
    "    def maj(i):\n",
    "        line.set_data([0,x1[i], x2[i]], [0, y1[i], y2[i]])\n",
    "        traj.set_data(x2[:i], y2[:i])  # Mettre à jour la trajectoire jusqu'à l'indice i\n",
    "        return line, traj\n",
    "\n",
    "    ani = animation.FuncAnimation(fig, maj, frames=range(np.size(x1)), blit=True, interval=50)\n",
    "    return ani\n",
    "\n",
    "# application\n",
    "\n",
    "temps, sol = euler(np.pi/2, np.pi/4, 1.5, 0, 0.05, 20)\n",
    "ani = visualisation(temps, sol)\n",
    "\n",
    "from IPython.display import HTML\n",
    "HTML(ani.to_jshtml())"
   ]
  },
  {
   "cell_type": "code",
   "execution_count": null,
   "id": "3f387200",
   "metadata": {},
   "outputs": [],
   "source": []
  }
 ],
 "metadata": {
  "kernelspec": {
   "display_name": "Python 3 (ipykernel)",
   "language": "python",
   "name": "python3"
  },
  "language_info": {
   "codemirror_mode": {
    "name": "ipython",
    "version": 3
   },
   "file_extension": ".py",
   "mimetype": "text/x-python",
   "name": "python",
   "nbconvert_exporter": "python",
   "pygments_lexer": "ipython3",
   "version": "3.10.5"
  }
 },
 "nbformat": 4,
 "nbformat_minor": 5
}
